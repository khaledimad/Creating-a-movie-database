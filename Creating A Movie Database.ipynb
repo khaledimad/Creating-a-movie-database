{
 "cells": [
  {
   "cell_type": "markdown",
   "metadata": {},
   "source": [
    "# This project is divided into parts:\n",
    "\n",
    "1) Part 1: Scraping OMDB using APIs<br>\n",
    "2) Part 2: Setting up SQL in Jupyter Notebook<br>\n",
    "3) Part 3: Setting up the Database"
   ]
  },
  {
   "cell_type": "markdown",
   "metadata": {},
   "source": [
    "# Part 1"
   ]
  },
  {
   "cell_type": "markdown",
   "metadata": {},
   "source": [
    "a) Go to http://www.omdbapi.com/ and make yourself familiar with the API and its use. Request an API Key from the page. Specifically, read \"Usage\", \"Parameters\", and \"Examples\", and write down the URL string that would search for all the movies containing the word \"blade\". Include it as a comment in your code script."
   ]
  },
  {
   "cell_type": "code",
   "execution_count": 1,
   "metadata": {},
   "outputs": [
    {
     "data": {
      "text/plain": [
       "'http://www.omdbapi.com/?apikey=d09457b3&s=blade'"
      ]
     },
     "execution_count": 1,
     "metadata": {},
     "output_type": "execute_result"
    }
   ],
   "source": [
    "# First we need to obtain an api key through the website\n",
    "api_key = \"d09457b3\"\n",
    "\n",
    "# Next we create url containing api key and search term\n",
    "url = \"http://www.omdbapi.com/?apikey=\"+api_key+\"&s=blade\"\n",
    "\n",
    "url"
   ]
  },
  {
   "cell_type": "markdown",
   "metadata": {},
   "source": [
    "b) Write a program in Python or Java that executes the above API call and prints the result to the screen. You can use the parameters \"Plot: Short\" and \"Response: JSON\". "
   ]
  },
  {
   "cell_type": "code",
   "execution_count": 2,
   "metadata": {},
   "outputs": [],
   "source": [
    "# Begin by importing all required packages\n",
    "import requests\n",
    "import json"
   ]
  },
  {
   "cell_type": "code",
   "execution_count": 3,
   "metadata": {},
   "outputs": [],
   "source": [
    "# Set parameters\n",
    "parameter = {\"plot\" : \"Short\", \"r\" : \"JSON\"}"
   ]
  },
  {
   "cell_type": "code",
   "execution_count": 4,
   "metadata": {},
   "outputs": [],
   "source": [
    "# Request url and print JSON\n",
    "response = requests.get(url, params = parameter)\n",
    "blade = json.loads(response.text)\n",
    "blade = blade[\"Search\"]"
   ]
  },
  {
   "cell_type": "code",
   "execution_count": 5,
   "metadata": {},
   "outputs": [
    {
     "name": "stdout",
     "output_type": "stream",
     "text": [
      "[\n",
      "  {\n",
      "    \"Title\": \"Blade Runner\",\n",
      "    \"Year\": \"1982\",\n",
      "    \"imdbID\": \"tt0083658\",\n",
      "    \"Type\": \"movie\",\n",
      "    \"Poster\": \"https://m.media-amazon.com/images/M/MV5BNzQzMzJhZTEtOWM4NS00MTdhLTg0YjgtMjM4MDRkZjUwZDBlXkEyXkFqcGdeQXVyNjU0OTQ0OTY@._V1_SX300.jpg\"\n",
      "  },\n",
      "  {\n",
      "    \"Title\": \"Blade Runner 2049\",\n",
      "    \"Year\": \"2017\",\n",
      "    \"imdbID\": \"tt1856101\",\n",
      "    \"Type\": \"movie\",\n",
      "    \"Poster\": \"https://m.media-amazon.com/images/M/MV5BNzA1Njg4NzYxOV5BMl5BanBnXkFtZTgwODk5NjU3MzI@._V1_SX300.jpg\"\n",
      "  },\n",
      "  {\n",
      "    \"Title\": \"Blade\",\n",
      "    \"Year\": \"1998\",\n",
      "    \"imdbID\": \"tt0120611\",\n",
      "    \"Type\": \"movie\",\n",
      "    \"Poster\": \"https://m.media-amazon.com/images/M/MV5BOTk2NDNjZWQtMGY0Mi00YTY2LWE5MzctMGRhZmNlYzljYTg5XkEyXkFqcGdeQXVyMTAyNjg4NjE0._V1_SX300.jpg\"\n",
      "  },\n",
      "  {\n",
      "    \"Title\": \"Blade II\",\n",
      "    \"Year\": \"2002\",\n",
      "    \"imdbID\": \"tt0187738\",\n",
      "    \"Type\": \"movie\",\n",
      "    \"Poster\": \"https://m.media-amazon.com/images/M/MV5BOWVjZTIzNDYtNTBlNC00NTJjLTkzOTEtOTE0MjlhYzI2YTcyXkEyXkFqcGdeQXVyNTAyODkwOQ@@._V1_SX300.jpg\"\n",
      "  },\n",
      "  {\n",
      "    \"Title\": \"Blade: Trinity\",\n",
      "    \"Year\": \"2004\",\n",
      "    \"imdbID\": \"tt0359013\",\n",
      "    \"Type\": \"movie\",\n",
      "    \"Poster\": \"https://m.media-amazon.com/images/M/MV5BMjE0Nzg2MzI3MF5BMl5BanBnXkFtZTYwMjExODQ3._V1_SX300.jpg\"\n",
      "  },\n",
      "  {\n",
      "    \"Title\": \"Sling Blade\",\n",
      "    \"Year\": \"1996\",\n",
      "    \"imdbID\": \"tt0117666\",\n",
      "    \"Type\": \"movie\",\n",
      "    \"Poster\": \"https://m.media-amazon.com/images/M/MV5BNGY5NWIxMjAtODBjNC00MmZhLTk1ZTAtNGRhYThlOTNjMTQwXkEyXkFqcGdeQXVyNTc1NTQxODI@._V1_SX300.jpg\"\n",
      "  },\n",
      "  {\n",
      "    \"Title\": \"Dragon Blade\",\n",
      "    \"Year\": \"2015\",\n",
      "    \"imdbID\": \"tt3672840\",\n",
      "    \"Type\": \"movie\",\n",
      "    \"Poster\": \"https://m.media-amazon.com/images/M/MV5BMTk0MjgxOTQ5MF5BMl5BanBnXkFtZTgwODA3NTUwNjE@._V1_SX300.jpg\"\n",
      "  },\n",
      "  {\n",
      "    \"Title\": \"Blade of the Immortal\",\n",
      "    \"Year\": \"2017\",\n",
      "    \"imdbID\": \"tt5084170\",\n",
      "    \"Type\": \"movie\",\n",
      "    \"Poster\": \"https://m.media-amazon.com/images/M/MV5BYzIwYmJlMjktMzJiMy00YmQzLThmNWYtNWY3NGViZjc4MzYwXkEyXkFqcGdeQXVyNDQxNjcxNQ@@._V1_SX300.jpg\"\n",
      "  },\n",
      "  {\n",
      "    \"Title\": \"Shinobi: Heart Under Blade\",\n",
      "    \"Year\": \"2005\",\n",
      "    \"imdbID\": \"tt0475723\",\n",
      "    \"Type\": \"movie\",\n",
      "    \"Poster\": \"https://m.media-amazon.com/images/M/MV5BNjZhMTNmMTItNmU4Mi00YTdkLWFkZWUtOGExNTQ3MGRiYWYyXkEyXkFqcGdeQXVyNzI1NzMxNzM@._V1_SX300.jpg\"\n",
      "  },\n",
      "  {\n",
      "    \"Title\": \"Blade Runner: Black Out 2022\",\n",
      "    \"Year\": \"2017\",\n",
      "    \"imdbID\": \"tt7428594\",\n",
      "    \"Type\": \"movie\",\n",
      "    \"Poster\": \"https://m.media-amazon.com/images/M/MV5BZGNiNmNiMTctMDI4OS00OWYxLWE4ZWEtZjFkZjU4ZmY5YzEyXkEyXkFqcGdeQXVyMzgxODM4NjM@._V1_SX300.jpg\"\n",
      "  }\n",
      "]\n"
     ]
    }
   ],
   "source": [
    "# Pretty-print the JSON\n",
    "pretty_blade = json.dumps(blade, indent=2, sort_keys=False)\n",
    "print(pretty_blade)"
   ]
  },
  {
   "cell_type": "markdown",
   "metadata": {},
   "source": [
    "c) Parse the JSON string in (b) to an internal Python or Java object for further handling. Then write code that iterates through the search results and prints the imdbID results to the screen."
   ]
  },
  {
   "cell_type": "code",
   "execution_count": 6,
   "metadata": {},
   "outputs": [
    {
     "data": {
      "text/plain": [
       "str"
      ]
     },
     "execution_count": 6,
     "metadata": {},
     "output_type": "execute_result"
    }
   ],
   "source": [
    "type(pretty_blade)"
   ]
  },
  {
   "cell_type": "code",
   "execution_count": 7,
   "metadata": {},
   "outputs": [],
   "source": [
    "pretty_blade2 = json.loads(pretty_blade)"
   ]
  },
  {
   "cell_type": "code",
   "execution_count": 8,
   "metadata": {},
   "outputs": [
    {
     "name": "stdout",
     "output_type": "stream",
     "text": [
      "imdbID : tt0083658\n",
      "imdbID : tt1856101\n",
      "imdbID : tt0120611\n",
      "imdbID : tt0187738\n",
      "imdbID : tt0359013\n",
      "imdbID : tt0117666\n",
      "imdbID : tt3672840\n",
      "imdbID : tt5084170\n",
      "imdbID : tt0475723\n",
      "imdbID : tt7428594\n"
     ]
    }
   ],
   "source": [
    "for r in pretty_blade2:\n",
    "    print(\"imdbID :\", r[\"imdbID\"])"
   ]
  },
  {
   "cell_type": "markdown",
   "metadata": {},
   "source": [
    "# Part 2"
   ]
  },
  {
   "cell_type": "markdown",
   "metadata": {},
   "source": [
    "a) Install and run SQL on your machine. Use some GUI to see/test that it runs."
   ]
  },
  {
   "cell_type": "markdown",
   "metadata": {},
   "source": [
    "<b>Confirmed!</b> "
   ]
  },
  {
   "cell_type": "markdown",
   "metadata": {},
   "source": [
    "b) What data types would you choose to store \"imdb_id\", \"title\", and \"year\" in? Why?"
   ]
  },
  {
   "cell_type": "markdown",
   "metadata": {},
   "source": [
    "<b>imdb_id:</b> Use VARCHAR as it can contain letters, numbers (imdb_id is alphanumeric) and we know the length is 9 for the samples we queried. So, the length of the varchar can be 10 as it lets us to accommodate id values of variable lengths from 0 to 10.\n",
    "\n",
    "<b>title:</b> Use VARCHAR as it can contain letters, numbers or special characters (title may be alphanumeric with special characters such as \":\"). All the titles aren’t of same length, so we are using VARCHAR as the datatype. The maximum length is 200 to accommodate even the longest of the titles.\n",
    "\n",
    "<b>year:</b> Use INT to store the year values as it is a numeric data. In this case, we need to convert the value from string to integer."
   ]
  },
  {
   "cell_type": "markdown",
   "metadata": {},
   "source": [
    "c) Do we need to create an additional column as a primary key to uniquely identify rows? If so, what column (type) do you propose? If not, which existing column can we use?"
   ]
  },
  {
   "cell_type": "markdown",
   "metadata": {},
   "source": [
    "imdb_id looks like a unique identifier for every movie. But we couldn’t verify it from the API documentation. Also, since the imdb_id column is alphanumeric, it would take up more space if indexed as a primary key. So, for our use-case, we can create a numeric id as primary key column with auto increment feature. This will also let us keep track of the order in which data is being inserted into the table (higher values of id mean recently created records)."
   ]
  },
  {
   "cell_type": "markdown",
   "metadata": {},
   "source": [
    "(d) Write a small program in Python or Java that (i) connects to your local SQL instance (MySQL, MariaDB, and SQLite are the only acceptable versions. Choose either at your convenience. Use user \"root\" and NO passwords), (ii) creates a database named \"ucdavis\", (iii) creates the table \"omdb_test\" containing the columns \"imdb_id\", \"title\", and \"year\". This small code will create an empty table."
   ]
  },
  {
   "cell_type": "code",
   "execution_count": 10,
   "metadata": {},
   "outputs": [],
   "source": [
    "# First, import the required package\n",
    "import mysql.connector"
   ]
  },
  {
   "cell_type": "code",
   "execution_count": 11,
   "metadata": {},
   "outputs": [],
   "source": [
    "# i) Connects to local SQL instance\n",
    "db = mysql.connector.connect(host=\"localhost\", \n",
    "                               user=\"root\",\n",
    "                               passwd=\"\", \n",
    "                               use_pure=True)\n",
    "mysql_db = db.cursor()"
   ]
  },
  {
   "cell_type": "code",
   "execution_count": 12,
   "metadata": {},
   "outputs": [],
   "source": [
    "# ii) create database named \"ucdavis\"\n",
    "mysql_db.execute(\"CREATE DATABASE IF NOT EXISTS ucdavis\")\n",
    "mysql_db.execute(\"USE ucdavis\")"
   ]
  },
  {
   "cell_type": "code",
   "execution_count": 13,
   "metadata": {},
   "outputs": [],
   "source": [
    "# iii) Create a table named omdb_test with columns \"imdb_id\", \"title\" and \"year\"\n",
    "mysql_db.execute(\"CREATE TABLE IF NOT EXISTS omdb_test (id INT PRIMARY KEY, imdb_id VARCHAR(10) UNIQUE, title VARCHAR(200),\" + \n",
    "                 \"year INT)\")"
   ]
  },
  {
   "cell_type": "markdown",
   "metadata": {},
   "source": [
    "# Part 3"
   ]
  },
  {
   "cell_type": "markdown",
   "metadata": {},
   "source": [
    "a) Write a program in Python or Java that uses the OMDb API to lookup/search _your_ top 10 choices of movie titles and extract their imdbIDs. Print the movie titles along with their imdbID to the screen. (E.g., search for \"Dangal\" or \"Wolf Warrior 2\" and record the imdbID that corresponds to the exact movie you have in mind)."
   ]
  },
  {
   "cell_type": "code",
   "execution_count": 14,
   "metadata": {},
   "outputs": [],
   "source": [
    "# Creating the list of 10 movies\n",
    "movies = [\"Blow\", \n",
    "          \"Life is Beautiful\", \n",
    "          \"The Shawshank Redemption\", \n",
    "          \"Schindler's List\", \n",
    "          \"Pulp Fiction\", \n",
    "          \"Forrest Gump\", \n",
    "          \"Se7en\", \n",
    "          \"Joker\", \n",
    "          \"American History X\", \n",
    "          \"The Intouchables\"]"
   ]
  },
  {
   "cell_type": "code",
   "execution_count": 15,
   "metadata": {},
   "outputs": [],
   "source": [
    "# Import Neccessary package\n",
    "import pandas as pd\n",
    "# Loops 10 times over the movies list, one per page number\n",
    "top_10_movies = pd.DataFrame(columns=[\"Movie Title\", \"imdbID\"])\n",
    "for movie in movies:\n",
    "    # Concatenates movie with the url to create the url for each result page\n",
    "    url = \"http://www.omdbapi.com/?apikey=\"+api_key+\"&s=\"+movie\n",
    "    # Requesting the website's access to the server and storing the response\n",
    "    response = requests.get(url, params = parameter)\n",
    "    # Parsing the response\n",
    "    movie_choice = json.loads(response.text)\n",
    "    # Concatenating the search results under top_10_movies list\n",
    "    top_10_movies = top_10_movies.append({\"Movie Title\" : movie_choice[\"Search\"][0][\"Title\"], \n",
    "                                          \"imdbID\" : movie_choice[\"Search\"][0][\"imdbID\"]}, ignore_index=True)"
   ]
  },
  {
   "cell_type": "code",
   "execution_count": 16,
   "metadata": {},
   "outputs": [
    {
     "name": "stdout",
     "output_type": "stream",
     "text": [
      "                Movie Title     imdbID\n",
      "0                      Blow  tt0221027\n",
      "1         Life Is Beautiful  tt0118799\n",
      "2  The Shawshank Redemption  tt0111161\n",
      "3          Schindler's List  tt0108052\n",
      "4              Pulp Fiction  tt0110912\n",
      "5              Forrest Gump  tt0109830\n",
      "6                     Se7en  tt0114369\n",
      "7                     Joker  tt7286456\n",
      "8        American History X  tt0120586\n",
      "9          The Intouchables  tt1675434\n"
     ]
    }
   ],
   "source": [
    "print(top_10_movies)"
   ]
  },
  {
   "cell_type": "markdown",
   "metadata": {},
   "source": [
    "b) Augment the program you developed in (a) to look up the movie details using the imdbIDs you found (Use only the IDs, NOT titles) and print out the result to the screen. "
   ]
  },
  {
   "cell_type": "code",
   "execution_count": 17,
   "metadata": {},
   "outputs": [],
   "source": [
    "# Loops 10 times over the movies list, one per page number\n",
    "top_10_movie_dets = []\n",
    "movie_ids = top_10_movies[\"imdbID\"]\n",
    "for movie_id in movie_ids:\n",
    "    # Concatenates ids with the url to create the url for each result page\n",
    "    url = \"http://www.omdbapi.com/?apikey=\"+api_key+\"&i=\"+movie_id\n",
    "    # Requesting the website's access to the server and storing the response\n",
    "    response = requests.get(url, params = parameter)\n",
    "    # Parsing the response\n",
    "    movie_choice = json.loads(response.text)\n",
    "    # Concatenating the search results under top_10_movie_dets\n",
    "    top_10_movie_dets.append(movie_choice)"
   ]
  },
  {
   "cell_type": "code",
   "execution_count": 18,
   "metadata": {},
   "outputs": [
    {
     "name": "stdout",
     "output_type": "stream",
     "text": [
      "[{'Title': 'Blow', 'Year': '2001', 'Rated': 'R', 'Released': '06 Apr 2001', 'Runtime': '124 min', 'Genre': 'Biography, Crime, Drama', 'Director': 'Ted Demme', 'Writer': 'Bruce Porter (book), David McKenna (screenplay), Nick Cassavetes (screenplay)', 'Actors': 'Johnny Depp, Penélope Cruz, Franka Potente, Rachel Griffiths', 'Plot': 'The story of how George Jung, along with the Medellín Cartel headed by Pablo Escobar, established the American cocaine market in the 1970s in the United States.', 'Language': 'English', 'Country': 'USA', 'Awards': '3 wins & 9 nominations.', 'Poster': 'https://m.media-amazon.com/images/M/MV5BYjg5ZDkzZWEtZDQ2ZC00Y2ViLThhMzYtMmIxZDYzYTY2Y2Y2XkEyXkFqcGdeQXVyODAwMTU1MTE@._V1_SX300.jpg', 'Ratings': [{'Source': 'Internet Movie Database', 'Value': '7.6/10'}, {'Source': 'Rotten Tomatoes', 'Value': '55%'}, {'Source': 'Metacritic', 'Value': '52/100'}], 'Metascore': '52', 'imdbRating': '7.6', 'imdbVotes': '229,607', 'imdbID': 'tt0221027', 'Type': 'movie', 'DVD': '11 Sep 2001', 'BoxOffice': 'N/A', 'Production': 'New Line Cinema', 'Website': 'N/A', 'Response': 'True'}, {'Title': 'Life Is Beautiful', 'Year': '1997', 'Rated': 'PG-13', 'Released': '12 Feb 1999', 'Runtime': '116 min', 'Genre': 'Comedy, Drama, Romance, War', 'Director': 'Roberto Benigni', 'Writer': 'Vincenzo Cerami (story and screenplay by), Roberto Benigni (story and screenplay by)', 'Actors': 'Roberto Benigni, Nicoletta Braschi, Giorgio Cantarini, Giustino Durano', 'Plot': 'When an open-minded Jewish librarian and his son become victims of the Holocaust, he uses a perfect mixture of will, humor, and imagination to protect his son from the dangers around their camp.', 'Language': 'Italian, German, English', 'Country': 'Italy', 'Awards': 'Won 3 Oscars. Another 67 wins & 51 nominations.', 'Poster': 'https://m.media-amazon.com/images/M/MV5BYmJmM2Q4NmMtYThmNC00ZjRlLWEyZmItZTIwOTBlZDQ3NTQ1XkEyXkFqcGdeQXVyMTQxNzMzNDI@._V1_SX300.jpg', 'Ratings': [{'Source': 'Internet Movie Database', 'Value': '8.6/10'}, {'Source': 'Rotten Tomatoes', 'Value': '80%'}, {'Source': 'Metacritic', 'Value': '59/100'}], 'Metascore': '59', 'imdbRating': '8.6', 'imdbVotes': '576,583', 'imdbID': 'tt0118799', 'Type': 'movie', 'DVD': '09 Nov 1999', 'BoxOffice': 'N/A', 'Production': 'Miramax', 'Website': 'N/A', 'Response': 'True'}, {'Title': 'The Shawshank Redemption', 'Year': '1994', 'Rated': 'R', 'Released': '14 Oct 1994', 'Runtime': '142 min', 'Genre': 'Drama', 'Director': 'Frank Darabont', 'Writer': 'Stephen King (short story \"Rita Hayworth and Shawshank Redemption\"), Frank Darabont (screenplay)', 'Actors': 'Tim Robbins, Morgan Freeman, Bob Gunton, William Sadler', 'Plot': 'Two imprisoned men bond over a number of years, finding solace and eventual redemption through acts of common decency.', 'Language': 'English', 'Country': 'USA', 'Awards': 'Nominated for 7 Oscars. Another 21 wins & 35 nominations.', 'Poster': 'https://m.media-amazon.com/images/M/MV5BMDFkYTc0MGEtZmNhMC00ZDIzLWFmNTEtODM1ZmRlYWMwMWFmXkEyXkFqcGdeQXVyMTMxODk2OTU@._V1_SX300.jpg', 'Ratings': [{'Source': 'Internet Movie Database', 'Value': '9.3/10'}, {'Source': 'Rotten Tomatoes', 'Value': '90%'}, {'Source': 'Metacritic', 'Value': '80/100'}], 'Metascore': '80', 'imdbRating': '9.3', 'imdbVotes': '2,177,949', 'imdbID': 'tt0111161', 'Type': 'movie', 'DVD': '27 Jan 1998', 'BoxOffice': 'N/A', 'Production': 'Columbia Pictures', 'Website': 'N/A', 'Response': 'True'}, {'Title': \"Schindler's List\", 'Year': '1993', 'Rated': 'R', 'Released': '04 Feb 1994', 'Runtime': '195 min', 'Genre': 'Biography, Drama, History', 'Director': 'Steven Spielberg', 'Writer': 'Thomas Keneally (book), Steven Zaillian (screenplay)', 'Actors': 'Liam Neeson, Ben Kingsley, Ralph Fiennes, Caroline Goodall', 'Plot': 'In German-occupied Poland during World War II, industrialist Oskar Schindler gradually becomes concerned for his Jewish workforce after witnessing their persecution by the Nazis.', 'Language': 'English, Hebrew, German, Polish', 'Country': 'USA', 'Awards': 'Won 7 Oscars. Another 83 wins & 49 nominations.', 'Poster': 'https://m.media-amazon.com/images/M/MV5BNDE4OTMxMTctNmRhYy00NWE2LTg3YzItYTk3M2UwOTU5Njg4XkEyXkFqcGdeQXVyNjU0OTQ0OTY@._V1_SX300.jpg', 'Ratings': [{'Source': 'Internet Movie Database', 'Value': '8.9/10'}, {'Source': 'Rotten Tomatoes', 'Value': '97%'}, {'Source': 'Metacritic', 'Value': '94/100'}], 'Metascore': '94', 'imdbRating': '8.9', 'imdbVotes': '1,134,131', 'imdbID': 'tt0108052', 'Type': 'movie', 'DVD': '09 Mar 2004', 'BoxOffice': 'N/A', 'Production': 'Universal Pictures', 'Website': 'N/A', 'Response': 'True'}, {'Title': 'Pulp Fiction', 'Year': '1994', 'Rated': 'R', 'Released': '14 Oct 1994', 'Runtime': '154 min', 'Genre': 'Crime, Drama', 'Director': 'Quentin Tarantino', 'Writer': 'Quentin Tarantino (stories), Roger Avary (stories), Quentin Tarantino', 'Actors': 'Tim Roth, Amanda Plummer, Laura Lovelace, John Travolta', 'Plot': 'The lives of two mob hitmen, a boxer, a gangster and his wife, and a pair of diner bandits intertwine in four tales of violence and redemption.', 'Language': 'English, Spanish, French', 'Country': 'USA', 'Awards': 'Won 1 Oscar. Another 68 wins & 74 nominations.', 'Poster': 'https://m.media-amazon.com/images/M/MV5BNGNhMDIzZTUtNTBlZi00MTRlLWFjM2ItYzViMjE3YzI5MjljXkEyXkFqcGdeQXVyNzkwMjQ5NzM@._V1_SX300.jpg', 'Ratings': [{'Source': 'Internet Movie Database', 'Value': '8.9/10'}, {'Source': 'Rotten Tomatoes', 'Value': '92%'}, {'Source': 'Metacritic', 'Value': '94/100'}], 'Metascore': '94', 'imdbRating': '8.9', 'imdbVotes': '1,710,921', 'imdbID': 'tt0110912', 'Type': 'movie', 'DVD': '19 May 1998', 'BoxOffice': 'N/A', 'Production': 'Miramax Films', 'Website': 'N/A', 'Response': 'True'}, {'Title': 'Forrest Gump', 'Year': '1994', 'Rated': 'PG-13', 'Released': '06 Jul 1994', 'Runtime': '142 min', 'Genre': 'Drama, Romance', 'Director': 'Robert Zemeckis', 'Writer': 'Winston Groom (novel), Eric Roth (screenplay)', 'Actors': 'Tom Hanks, Rebecca Williams, Sally Field, Michael Conner Humphreys', 'Plot': 'The presidencies of Kennedy and Johnson, the events of Vietnam, Watergate, and other history unfold through the perspective of an Alabama man with an IQ of 75.', 'Language': 'English', 'Country': 'USA', 'Awards': 'Won 6 Oscars. Another 43 wins & 74 nominations.', 'Poster': 'https://m.media-amazon.com/images/M/MV5BNWIwODRlZTUtY2U3ZS00Yzg1LWJhNzYtMmZiYmEyNmU1NjMzXkEyXkFqcGdeQXVyMTQxNzMzNDI@._V1_SX300.jpg', 'Ratings': [{'Source': 'Internet Movie Database', 'Value': '8.8/10'}, {'Source': 'Rotten Tomatoes', 'Value': '72%'}, {'Source': 'Metacritic', 'Value': '82/100'}], 'Metascore': '82', 'imdbRating': '8.8', 'imdbVotes': '1,682,983', 'imdbID': 'tt0109830', 'Type': 'movie', 'DVD': '28 Aug 2001', 'BoxOffice': '$330,000,000', 'Production': 'Paramount Pictures', 'Website': 'N/A', 'Response': 'True'}, {'Title': 'Se7en', 'Year': '1995', 'Rated': 'R', 'Released': '22 Sep 1995', 'Runtime': '127 min', 'Genre': 'Crime, Drama, Mystery, Thriller', 'Director': 'David Fincher', 'Writer': 'Andrew Kevin Walker', 'Actors': 'Morgan Freeman, Andrew Kevin Walker, Daniel Zacapa, Brad Pitt', 'Plot': 'Two detectives, a rookie and a veteran, hunt a serial killer who uses the seven deadly sins as his motives.', 'Language': 'English', 'Country': 'USA', 'Awards': 'Nominated for 1 Oscar. Another 26 wins & 40 nominations.', 'Poster': 'https://m.media-amazon.com/images/M/MV5BOTUwODM5MTctZjczMi00OTk4LTg3NWUtNmVhMTAzNTNjYjcyXkEyXkFqcGdeQXVyNjU0OTQ0OTY@._V1_SX300.jpg', 'Ratings': [{'Source': 'Internet Movie Database', 'Value': '8.6/10'}, {'Source': 'Rotten Tomatoes', 'Value': '81%'}, {'Source': 'Metacritic', 'Value': '65/100'}], 'Metascore': '65', 'imdbRating': '8.6', 'imdbVotes': '1,339,280', 'imdbID': 'tt0114369', 'Type': 'movie', 'DVD': '14 Apr 1997', 'BoxOffice': 'N/A', 'Production': 'New Line Cinema', 'Website': 'N/A', 'Response': 'True'}, {'Title': 'Joker', 'Year': '2019', 'Rated': 'R', 'Released': '04 Oct 2019', 'Runtime': '122 min', 'Genre': 'Crime, Drama, Thriller', 'Director': 'Todd Phillips', 'Writer': 'Todd Phillips, Scott Silver, Bob Kane (based on characters created by), Bill Finger (based on characters created by), Jerry Robinson (based on characters created by)', 'Actors': 'Joaquin Phoenix, Robert De Niro, Zazie Beetz, Frances Conroy', 'Plot': 'In Gotham City, mentally troubled comedian Arthur Fleck is disregarded and mistreated by society. He then embarks on a downward spiral of revolution and bloody crime. This path brings him face-to-face with his alter-ego: the Joker.', 'Language': 'English', 'Country': 'Canada, USA', 'Awards': 'Won 2 Golden Globes. Another 27 wins & 129 nominations.', 'Poster': 'https://m.media-amazon.com/images/M/MV5BNGVjNWI4ZGUtNzE0MS00YTJmLWE0ZDctN2ZiYTk2YmI3NTYyXkEyXkFqcGdeQXVyMTkxNjUyNQ@@._V1_SX300.jpg', 'Ratings': [{'Source': 'Internet Movie Database', 'Value': '8.6/10'}, {'Source': 'Rotten Tomatoes', 'Value': '69%'}, {'Source': 'Metacritic', 'Value': '59/100'}], 'Metascore': '59', 'imdbRating': '8.6', 'imdbVotes': '593,943', 'imdbID': 'tt7286456', 'Type': 'movie', 'DVD': '17 Dec 2019', 'BoxOffice': 'N/A', 'Production': 'Warner Bros. Pictures', 'Website': 'N/A', 'Response': 'True'}, {'Title': 'American History X', 'Year': '1998', 'Rated': 'R', 'Released': '20 Nov 1998', 'Runtime': '119 min', 'Genre': 'Drama', 'Director': 'Tony Kaye', 'Writer': 'David McKenna', 'Actors': \"Edward Norton, Edward Furlong, Beverly D'Angelo, Jennifer Lien\", 'Plot': 'A former neo-nazi skinhead tries to prevent his younger brother from going down the same wrong path that he did.', 'Language': 'English', 'Country': 'USA', 'Awards': 'Nominated for 1 Oscar. Another 4 wins & 13 nominations.', 'Poster': 'https://m.media-amazon.com/images/M/MV5BZjA0MTM4MTQtNzY5MC00NzY3LWI1ZTgtYzcxMjkyMzU4MDZiXkEyXkFqcGdeQXVyNDYyMDk5MTU@._V1_SX300.jpg', 'Ratings': [{'Source': 'Internet Movie Database', 'Value': '8.5/10'}, {'Source': 'Rotten Tomatoes', 'Value': '83%'}, {'Source': 'Metacritic', 'Value': '62/100'}], 'Metascore': '62', 'imdbRating': '8.5', 'imdbVotes': '983,328', 'imdbID': 'tt0120586', 'Type': 'movie', 'DVD': '06 Apr 1999', 'BoxOffice': 'N/A', 'Production': 'New Line Cinema', 'Website': 'N/A', 'Response': 'True'}, {'Title': 'The Intouchables', 'Year': '2011', 'Rated': 'R', 'Released': '02 Nov 2011', 'Runtime': '112 min', 'Genre': 'Biography, Comedy, Drama', 'Director': 'Olivier Nakache, Éric Toledano', 'Writer': 'Olivier Nakache, Philippe Pozzo di Borgo (adapted from his autobiographical tale Le Second Souffle), Éric Toledano', 'Actors': 'François Cluzet, Omar Sy, Anne Le Ny, Audrey Fleurot', 'Plot': 'After he becomes a quadriplegic from a paragliding accident, an aristocrat hires a young man from the projects to be his caregiver.', 'Language': 'French, English', 'Country': 'France', 'Awards': 'Nominated for 1 Golden Globe. Another 38 wins & 39 nominations.', 'Poster': 'https://m.media-amazon.com/images/M/MV5BMTYxNDA3MDQwNl5BMl5BanBnXkFtZTcwNTU4Mzc1Nw@@._V1_SX300.jpg', 'Ratings': [{'Source': 'Internet Movie Database', 'Value': '8.5/10'}, {'Source': 'Rotten Tomatoes', 'Value': '75%'}, {'Source': 'Metacritic', 'Value': '57/100'}], 'Metascore': '57', 'imdbRating': '8.5', 'imdbVotes': '706,708', 'imdbID': 'tt1675434', 'Type': 'movie', 'DVD': '05 Mar 2013', 'BoxOffice': '$13,179,837', 'Production': 'The Weinstein Company', 'Website': 'N/A', 'Response': 'True'}]\n"
     ]
    }
   ],
   "source": [
    "print(top_10_movie_dets)"
   ]
  },
  {
   "cell_type": "markdown",
   "metadata": {},
   "source": [
    "c) \"Recycle\" + augment your code from (2.d) to insert the following information of _your_ top 10 movie titles into a new SQL table named \"omdb\":\n",
    "\n",
    "title, year, genre, director, imdb_rating, rotten_tomatoes, metacritic, plot, box_office.\n",
    "\n",
    "Please store all ratings (imdb_rating, rotten_tomatoes, metacritic) all as full integers representing percentages, i.e., 8.5/10 = 85, 80% = 80."
   ]
  },
  {
   "cell_type": "code",
   "execution_count": 19,
   "metadata": {},
   "outputs": [],
   "source": [
    "# Loops 10 times over the movies list, one per page number\n",
    "title = []\n",
    "year = []\n",
    "genre = []\n",
    "director = []\n",
    "imdb_rating = []\n",
    "rotten_tomatoes = []\n",
    "metacritic = []\n",
    "plot = []\n",
    "box_office = []\n",
    "\n",
    "movie_details = pd.DataFrame(columns = [\"Title\", \"Year\", \"Genre\", \"Director\", \"IMDB_Rating\", \"Rotten_tomatoes\", \n",
    "                                        \"Metacritic\", \"Plot\", \"Box_office\"])\n",
    "\n",
    "for i in range(10):\n",
    "    # Pull out required information for each required feature and concatenate to create a list\n",
    "    movie_details = movie_details.append({\"Title\":top_10_movie_dets[i][\"Title\"], \"Year\":top_10_movie_dets[i][\"Year\"],\n",
    "                                          \"Genre\":top_10_movie_dets[i][\"Genre\"], \"Director\":top_10_movie_dets[i][\"Director\"],\n",
    "                                          \"IMDB_Rating\":top_10_movie_dets[i][\"imdbRating\"], \n",
    "                                          \"Rotten_tomatoes\":top_10_movie_dets[i][\"Ratings\"][1][\"Value\"],\n",
    "                                          \"Metacritic\":top_10_movie_dets[i][\"Ratings\"][2][\"Value\"],\n",
    "                                          \"Plot\":top_10_movie_dets[i][\"Plot\"],\n",
    "                                          \"Box_office\":top_10_movie_dets[i][\"BoxOffice\"]}, ignore_index=True)"
   ]
  },
  {
   "cell_type": "code",
   "execution_count": 20,
   "metadata": {},
   "outputs": [],
   "source": [
    "# Standardizing the imdb rating (floating point on 0 scale to integers on 100 scale)\n",
    "movie_details[\"IMDB_Rating\"] = movie_details[\"IMDB_Rating\"].astype(float)\n",
    "movie_details[\"IMDB_Rating\"] = (movie_details[\"IMDB_Rating\"]*10).astype(int)"
   ]
  },
  {
   "cell_type": "code",
   "execution_count": 21,
   "metadata": {},
   "outputs": [],
   "source": [
    "# Standardizing rotten tomatoes ratings (integers representing percentages)\n",
    "# Remove \"%\" and convert the datatype to integer\n",
    "movie_details[\"Rotten_tomatoes\"] = (movie_details[\"Rotten_tomatoes\"].str.replace(r'%', '')).astype(int)"
   ]
  },
  {
   "cell_type": "code",
   "execution_count": 22,
   "metadata": {},
   "outputs": [],
   "source": [
    "# Standardizing metacritic ratings (integers representing percentages)\n",
    "# Remove \"/100\" and convert the datatype to integer\n",
    "movie_details[\"Metacritic\"] = (movie_details[\"Metacritic\"].str.replace(r'/100', '')).astype(int)"
   ]
  },
  {
   "cell_type": "code",
   "execution_count": 23,
   "metadata": {},
   "outputs": [],
   "source": [
    "# Converting year into integer\n",
    "movie_details[\"Year\"] = movie_details[\"Year\"].astype(int)\n",
    "# Replacing N/A with empty string\n",
    "movie_details[\"Box_office\"] = movie_details[\"Box_office\"].str.replace(\"N/A\",\"\")"
   ]
  },
  {
   "cell_type": "code",
   "execution_count": 24,
   "metadata": {},
   "outputs": [],
   "source": [
    "# Create database if it doesnt exist\n",
    "database_name = \"ucdavis\"\n",
    "mysql_db.execute(\"CREATE DATABASE IF NOT EXISTS \" + database_name)\n",
    "mysql_db.execute(\"USE \" + database_name)"
   ]
  },
  {
   "cell_type": "code",
   "execution_count": 25,
   "metadata": {},
   "outputs": [],
   "source": [
    "# Create a table omdb with columns and assign them appropriate data types\n",
    "table_name = \"omdb\"\n",
    "mysql_db.execute(\"CREATE TABLE \" + table_name +\" (title VARCHAR(200), year INT, genre VARCHAR(40), director VARCHAR(70),\"+\n",
    "                 \"imdb_rating INT, rotten_tomatoes INT, metacritic INT, plot VARCHAR(300), box_office VARCHAR(30))\")\n",
    "db.commit()\n",
    "mysql_db.close()\n",
    "db.close()"
   ]
  },
  {
   "cell_type": "code",
   "execution_count": 26,
   "metadata": {},
   "outputs": [],
   "source": [
    "# using create_engine function from sqlalchemy to connect to the mysql database\n",
    "from sqlalchemy import create_engine\n",
    "user=\"root\"\n",
    "passwd = \"\"\n",
    "host = \"localhost\"\n",
    "port = \"3306\"\n",
    "mysql_engine = create_engine('mysql+mysqlconnector://{0}:{1}@{2}:{3}/'.format(user, passwd, host, port) + database_name + \"?use_pure=True\")"
   ]
  },
  {
   "cell_type": "code",
   "execution_count": 27,
   "metadata": {},
   "outputs": [],
   "source": [
    "# Using the mysql engine, writing the dataframe into the mysql table\n",
    "movie_details.to_sql(table_name, con = mysql_engine, if_exists = 'append', chunksize = 100, index = False)\n",
    "mysql_engine.dispose()"
   ]
  }
 ],
 "metadata": {
  "kernelspec": {
   "display_name": "Python 3",
   "language": "python",
   "name": "python3"
  },
  "language_info": {
   "codemirror_mode": {
    "name": "ipython",
    "version": 3
   },
   "file_extension": ".py",
   "mimetype": "text/x-python",
   "name": "python",
   "nbconvert_exporter": "python",
   "pygments_lexer": "ipython3",
   "version": "3.7.3"
  },
  "toc": {
   "base_numbering": 1,
   "nav_menu": {},
   "number_sections": true,
   "sideBar": true,
   "skip_h1_title": false,
   "title_cell": "Table of Contents",
   "title_sidebar": "Contents",
   "toc_cell": false,
   "toc_position": {},
   "toc_section_display": true,
   "toc_window_display": false
  },
  "varInspector": {
   "cols": {
    "lenName": 16,
    "lenType": 16,
    "lenVar": 40
   },
   "kernels_config": {
    "python": {
     "delete_cmd_postfix": "",
     "delete_cmd_prefix": "del ",
     "library": "var_list.py",
     "varRefreshCmd": "print(var_dic_list())"
    },
    "r": {
     "delete_cmd_postfix": ") ",
     "delete_cmd_prefix": "rm(",
     "library": "var_list.r",
     "varRefreshCmd": "cat(var_dic_list()) "
    }
   },
   "types_to_exclude": [
    "module",
    "function",
    "builtin_function_or_method",
    "instance",
    "_Feature"
   ],
   "window_display": false
  }
 },
 "nbformat": 4,
 "nbformat_minor": 2
}
